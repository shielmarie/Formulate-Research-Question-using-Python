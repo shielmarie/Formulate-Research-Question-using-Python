{
 "cells": [
  {
   "cell_type": "code",
   "execution_count": 4,
   "id": "a48837aa-74f6-43b9-920c-1a2af5baec96",
   "metadata": {},
   "outputs": [],
   "source": [
    "import pandas as pd\n",
    "import numpy as np\n",
    "import scipy as sp\n",
    "import matplotlib as mpl\n",
    "\n",
    "df= pd.read_csv(\"http://rcs.bu.edu/examples/python/DataAnalysis/Salaries.csv\")"
   ]
  },
  {
   "cell_type": "code",
   "execution_count": 7,
   "id": "eea73dbb-1ae9-43e3-a9f1-dd463f077416",
   "metadata": {},
   "outputs": [],
   "source": [
    "#Formulate one research question.\n",
    "#Research Question: What determines the salary value?"
   ]
  },
  {
   "cell_type": "code",
   "execution_count": 8,
   "id": "410bec8d-6b71-4591-b121-66912717f841",
   "metadata": {},
   "outputs": [],
   "source": [
    "#1.\tIdentify the type of variables you have. Show the number of observations.\n",
    "#2.\tCount the number of blank or null values.\n",
    "#3.\tPerform descriptive statistics to all numerical values. What did you learn based from the values.\n",
    "#4.\tUse Groupby in at least 2 categorical variables. Provide a short interpretation. \n",
    "#5.\tFilter your dataset and assign it to a new variable.\n",
    "#6.\tBased from the basic python commands, have you seen any trend/pattern in your dataset? "
   ]
  },
  {
   "cell_type": "code",
   "execution_count": 9,
   "id": "d7ef0cbe-1c98-40cb-87ca-fcfb0adf8562",
   "metadata": {},
   "outputs": [
    {
     "name": "stdout",
     "output_type": "stream",
     "text": [
      "<class 'pandas.core.frame.DataFrame'>\n",
      "RangeIndex: 78 entries, 0 to 77\n",
      "Data columns (total 6 columns):\n",
      " #   Column      Non-Null Count  Dtype \n",
      "---  ------      --------------  ----- \n",
      " 0   rank        78 non-null     object\n",
      " 1   discipline  78 non-null     object\n",
      " 2   phd         78 non-null     int64 \n",
      " 3   service     78 non-null     int64 \n",
      " 4   sex         78 non-null     object\n",
      " 5   salary      78 non-null     int64 \n",
      "dtypes: int64(3), object(3)\n",
      "memory usage: 3.8+ KB\n",
      "None\n"
     ]
    }
   ],
   "source": [
    "#1. \n",
    "print(df.info())"
   ]
  },
  {
   "cell_type": "code",
   "execution_count": 10,
   "id": "611d5ca5-5864-44e0-9c57-763aa1c9efeb",
   "metadata": {},
   "outputs": [
    {
     "name": "stdout",
     "output_type": "stream",
     "text": [
      "rank          0\n",
      "discipline    0\n",
      "phd           0\n",
      "service       0\n",
      "sex           0\n",
      "salary        0\n",
      "dtype: int64\n"
     ]
    }
   ],
   "source": [
    "#2.\n",
    "print(df.isnull().sum())"
   ]
  },
  {
   "cell_type": "code",
   "execution_count": 11,
   "id": "74388d46-4d7f-4608-a68f-802c15d20d10",
   "metadata": {},
   "outputs": [
    {
     "name": "stdout",
     "output_type": "stream",
     "text": [
      "             phd    service         salary\n",
      "count  78.000000  78.000000      78.000000\n",
      "mean   19.705128  15.051282  108023.782051\n",
      "std    12.498425  12.139768   28293.661022\n",
      "min     1.000000   0.000000   57800.000000\n",
      "25%    10.250000   5.250000   88612.500000\n",
      "50%    18.500000  14.500000  104671.000000\n",
      "75%    27.750000  20.750000  126774.750000\n",
      "max    56.000000  51.000000  186960.000000\n"
     ]
    }
   ],
   "source": [
    "#3. Based on the values the highest phd has the highest salary.\n",
    "print(df.describe())"
   ]
  },
  {
   "cell_type": "code",
   "execution_count": 7,
   "id": "46f05004-0c18-4349-9374-34837a5cd99e",
   "metadata": {},
   "outputs": [
    {
     "name": "stdout",
     "output_type": "stream",
     "text": [
      "rank       discipline  sex   \n",
      "AssocProf  A           Female     62884\n",
      "                       Male       81285\n",
      "           B           Female     71065\n",
      "                       Male      107008\n",
      "AsstProf   A           Female     63100\n",
      "                       Male       73000\n",
      "           B           Female     74692\n",
      "                       Male       75044\n",
      "Prof       A           Female     90450\n",
      "                       Male       57800\n",
      "           B           Female    105450\n",
      "                       Male       99418\n",
      "Name: salary, dtype: int64\n",
      "rank       discipline  sex   \n",
      "AssocProf  A           Female     77500\n",
      "                       Male       81285\n",
      "           B           Female    109650\n",
      "                       Male      119800\n",
      "AsstProf   A           Female     78500\n",
      "                       Male       85000\n",
      "           B           Female     97032\n",
      "                       Male       92000\n",
      "Prof       A           Female    137000\n",
      "                       Male      155865\n",
      "           B           Female    161101\n",
      "                       Male      186960\n",
      "Name: salary, dtype: int64\n"
     ]
    }
   ],
   "source": [
    "#4. Those who are in discipline A has the lowest salary.\n",
    "#Those who have a rank as Prof has the highest salary in discipline B.\n",
    "grouped_data = df.groupby(['rank','discipline','sex'])['salary'].min()\n",
    "print(grouped_data)\n",
    "\n",
    "grouped_datab = df.groupby(['rank','discipline','sex'])['salary'].max()\n",
    "print(grouped_datab)\n"
   ]
  },
  {
   "cell_type": "code",
   "execution_count": 50,
   "id": "f462676a-93f2-4068-b33e-36d84dbf8212",
   "metadata": {},
   "outputs": [
    {
     "name": "stdout",
     "output_type": "stream",
     "text": [
      "             phd    service         salary\n",
      "count  75.000000  75.000000      75.000000\n",
      "mean   19.386667  14.600000  109894.280000\n",
      "std    12.109738  11.572334   27212.955223\n",
      "min     1.000000   0.000000   71065.000000\n",
      "25%    10.500000   4.500000   91000.000000\n",
      "50%    18.000000  14.000000  105000.000000\n",
      "75%    27.500000  20.000000  127222.500000\n",
      "max    56.000000  49.000000  186960.000000\n"
     ]
    }
   ],
   "source": [
    "#5.\n",
    "filtered_df = df[df['salary'] > 70000] \n",
    "print (filtered_df.describe())"
   ]
  },
  {
   "cell_type": "code",
   "execution_count": 51,
   "id": "b5fd0d3d-1770-44ee-b1d8-1c416d3575ab",
   "metadata": {},
   "outputs": [],
   "source": [
    "#6. The pattern I see is that rank and discipline determine the salary. \n",
    "#This also answers my research question:\n",
    "#What determines the salary value?\n",
    "\n",
    "#Student Name: Marieshiel Enriquez"
   ]
  },
  {
   "cell_type": "code",
   "execution_count": null,
   "id": "a133ca93-83c0-4b1d-8c93-3b616a9b6944",
   "metadata": {},
   "outputs": [],
   "source": []
  }
 ],
 "metadata": {
  "kernelspec": {
   "display_name": "Python 3 (ipykernel)",
   "language": "python",
   "name": "python3"
  },
  "language_info": {
   "codemirror_mode": {
    "name": "ipython",
    "version": 3
   },
   "file_extension": ".py",
   "mimetype": "text/x-python",
   "name": "python",
   "nbconvert_exporter": "python",
   "pygments_lexer": "ipython3",
   "version": "3.12.0"
  }
 },
 "nbformat": 4,
 "nbformat_minor": 5
}
